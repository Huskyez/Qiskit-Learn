{
 "cells": [
  {
   "cell_type": "markdown",
   "metadata": {},
   "source": [
    "# Bernstein-Vazerani Algorithm"
   ]
  },
  {
   "cell_type": "markdown",
   "metadata": {},
   "source": [
    "This algorithm determines a n bit string (ex. \"11001\") using a function\\\n",
    "f<sub>s</sub>(x) = s<sub>0</sub>x<sub>0</sub> + s<sub>1</sub>x<sub>1</sub> + ... + s<sub>n</sub>x<sub>n</sub> mod 2\\\n",
    "\\\n",
    "Classicaly in order to retrieve s we have to query the function n times. In quantum computing using this algorithm\\\n",
    "we can determine s with 100% probability after only 1 query."
   ]
  },
  {
   "cell_type": "markdown",
   "metadata": {},
   "source": [
    "## Necessary Imports and Definitions"
   ]
  },
  {
   "cell_type": "code",
   "execution_count": 1,
   "metadata": {},
   "outputs": [],
   "source": [
    "import numpy as np\n",
    "from math import sqrt\n",
    "from qiskit import QuantumCircuit, QuantumRegister, ClassicalRegister, execute, Aer, IBMQ\n",
    "from qiskit.visualization import plot_histogram, plot_bloch_multivector\n",
    "from qiskit.extensions import Initialize\n",
    "from qiskit_textbook.tools import random_state, array_to_latex\n",
    "\n",
    "unitary_backend = Aer.get_backend(\"unitary_simulator\")\n",
    "statevector_backend = Aer.get_backend(\"statevector_simulator\")\n",
    "backend = Aer.get_backend(\"qasm_simulator\")"
   ]
  },
  {
   "cell_type": "markdown",
   "metadata": {},
   "source": [
    "## Oracle from f<sub>s</sub>"
   ]
  },
  {
   "cell_type": "markdown",
   "metadata": {},
   "source": [
    "This oracle maps the state |x>|y> to |x>|y XOR sx>"
   ]
  },
  {
   "cell_type": "code",
   "execution_count": 2,
   "metadata": {},
   "outputs": [],
   "source": [
    "def get_oracle(s):\n",
    "    \"\"\"\n",
    "    Makes a quantum gate that respects the oracle map\n",
    "    and returns it\n",
    "    \"\"\"\n",
    "    n = len(s)\n",
    "    \n",
    "    oracle = QuantumCircuit(n + 1)\n",
    "    rev_s = s[::-1] # Reverse s to match qiskit's bit ordering\n",
    "    \n",
    "    for q in range(len(rev_s)):\n",
    "        if rev_s[i] == \"0\":\n",
    "            # if the bit is zero do nothing basically\n",
    "            oracle.i(q)\n",
    "        else:\n",
    "            # if it's one apply CX gate (this acts as a classical XOR)\n",
    "            oracle.cx(q, n)\n",
    "            \n",
    "    oracle_gate = oracle.to_gate()\n",
    "    oracle_gate.name = \"B-V Oracle\"\n",
    "    \n",
    "    return oracle_gate\n",
    "    "
   ]
  },
  {
   "cell_type": "markdown",
   "metadata": {},
   "source": [
    "## Algorithm"
   ]
  },
  {
   "cell_type": "code",
   "execution_count": null,
   "metadata": {},
   "outputs": [],
   "source": [
    "def bv_algorithm(oracle_gate, n):\n",
    "    \n",
    "    \"\"\"\n",
    "    Applies the bernstein-vazerani algorithm to n qubits with a give oracle gate\n",
    "    that respects the conditions described above\n",
    "    Returns the resulting circuit\n",
    "    \"\"\"\n",
    "    \n",
    "    # We need n qubits in \n",
    "    qc = QuantumCircuit(n+1, n)\n",
    "    \n",
    "    # Prepare initial state i.e. |0>*n and the ancillary |-> \n",
    "    qc.x(n)\n",
    "    qc.h(n)\n",
    "    \n",
    "    for q in range(n):\n",
    "        qc.h(n)\n",
    "    \n",
    "    qc.barrier()\n",
    "    \n",
    "    # apply the oracle (works on n+1 qubits) to our circuit \n",
    "    qc.append(oracle_gate, range(n+1))\n",
    "    \n",
    "    qc.barrier()\n",
    "    \n",
    "    # apply hadamard again to the first n qubits\n",
    "    for q in range(n):\n",
    "        qc.h(n)\n",
    "    \n",
    "    qc.barrier()\n",
    "    \n",
    "    # measure the qubits and output their result to the classical registry\n",
    "    qc.measure([i for i in range(n)], [i for i in range(n)])\n",
    "    \n",
    "    return qc"
   ]
  }
 ],
 "metadata": {
  "kernelspec": {
   "display_name": "Python 3",
   "language": "python",
   "name": "python3"
  },
  "language_info": {
   "codemirror_mode": {
    "name": "ipython",
    "version": 3
   },
   "file_extension": ".py",
   "mimetype": "text/x-python",
   "name": "python",
   "nbconvert_exporter": "python",
   "pygments_lexer": "ipython3",
   "version": "3.8.6"
  }
 },
 "nbformat": 4,
 "nbformat_minor": 4
}
