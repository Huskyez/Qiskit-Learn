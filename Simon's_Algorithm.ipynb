{
 "cells": [
  {
   "cell_type": "markdown",
   "metadata": {},
   "source": [
    "# Simon's Algorithm"
   ]
  },
  {
   "cell_type": "markdown",
   "metadata": {},
   "source": [
    "Given a function with a parameter s (bitstring), it is guaranteed that for x = y, where y = x $\\oplus$ s, then f(x) = f(y)\\\n",
    "that is to say that f is 2-to-1. (for every ouput there are 2 different inputs that map to that ouput)\\\n",
    "Note, that if b = 0$\\dots$0 i.e. 0 bitstring the function f is 1-to-1 because for f(x) = f(y) we have x = y"
   ]
  },
  {
   "cell_type": "markdown",
   "metadata": {},
   "source": [
    "## Imports and Definitions"
   ]
  },
  {
   "cell_type": "code",
   "execution_count": 1,
   "metadata": {},
   "outputs": [],
   "source": [
    "import numpy as np\n",
    "from math import sqrt\n",
    "from qiskit import QuantumCircuit, QuantumRegister, ClassicalRegister, execute, Aer, IBMQ\n",
    "from qiskit.circuit.library import *\n",
    "from qiskit.visualization import plot_histogram, plot_bloch_multivector\n",
    "from qiskit.extensions import Initialize\n",
    "from qiskit_textbook.tools import random_state, array_to_latex\n",
    "from random import randint\n",
    "\n",
    "unitary_backend = Aer.get_backend(\"unitary_simulator\")\n",
    "statevector_backend = Aer.get_backend(\"statevector_simulator\")\n",
    "backend = Aer.get_backend(\"qasm_simulator\")"
   ]
  },
  {
   "cell_type": "markdown",
   "metadata": {},
   "source": [
    "## General Simon Oracle"
   ]
  },
  {
   "cell_type": "markdown",
   "metadata": {},
   "source": [
    "Given a bitstring s we want to create an oracle that maps the state $\\lvert x \\rangle \\lvert 0 \\rangle$ to the state $\\lvert x \\rangle \\lvert f_s(x) \\rangle$\\\n",
    "We do this by copying the first register onto the second and xoring the second register with s."
   ]
  },
  {
   "cell_type": "code",
   "execution_count": 6,
   "metadata": {},
   "outputs": [],
   "source": [
    "def simon_oracle(s):\n",
    "    \"\"\"\n",
    "    Returns a 2*n qubit gate wich maps |x>|0> to |x>|f(x)>\n",
    "    \"\"\"\n",
    "    n = len(s)\n",
    "    \n",
    "    qc = QuantumCircuit(2 * n)\n",
    "    \n",
    "    for q in range(n):\n",
    "        qc.cx(q, n + q)\n",
    "        \n",
    "    for i in range(n):\n",
    "        if s[i] == \"1\":\n",
    "            qc.cx(i, n + i)\n",
    "    \n",
    "    nr_swaps = randint(0, n)\n",
    "    for i in range(nr_swaps):\n",
    "        x = randint(n, 2 * n - 1)\n",
    "        y = randint(n, 2 * n - 1)\n",
    "        if x != y:\n",
    "            qc.swap(x, y)\n",
    "    \n",
    "#     perm = Permutation(n).to_gate()\n",
    "#     qc.append(perm, range(n, 2 * n))\n",
    "    oracle = qc.to_gate()\n",
    "    oracle.name = \"Simon Oracle\"\n",
    "    return oracle"
   ]
  },
  {
   "cell_type": "markdown",
   "metadata": {},
   "source": [
    "# Simon's Algorithm"
   ]
  },
  {
   "cell_type": "markdown",
   "metadata": {},
   "source": [
    "Here is a implementation of a simon circuit which gives us a z so that $z \\cdot s = 0 \\bmod 2$"
   ]
  },
  {
   "cell_type": "code",
   "execution_count": 12,
   "metadata": {},
   "outputs": [],
   "source": [
    "def simon_circuit(s):\n",
    "    \"\"\"\n",
    "    Creates a simon oracle based on the given bitstring s\n",
    "    and applies simon's algorithm\n",
    "    Returns the resulting circuit\n",
    "    \"\"\"\n",
    "    \n",
    "    n = len(s)\n",
    "    oracle = simon_oracle(s)\n",
    "    \n",
    "    # we need a qc with 2 quantum registers each with n qubits\n",
    "    # and 2 classical registers also with n bits for the measurements\n",
    "    qc = QuantumCircuit(2 * n, n)\n",
    "    \n",
    "    # apply H on the first register => |x>|0>\n",
    "    for q in range(n):\n",
    "        qc.h(q)\n",
    "    qc.barrier()\n",
    "    \n",
    "    \n",
    "    # apply the oracle => |x>|f(x)>\n",
    "    qc.append(oracle, range(2 * n))\n",
    "    qc.barrier()\n",
    "    \n",
    "    # measure the second register\n",
    "    # results in a change of the first register (superposition of x and y where f(x) = f(y))\n",
    "#     for q in range(n, 2 * n):\n",
    "#         qc.measure(q, q)\n",
    "#     qc.barrier()\n",
    "        \n",
    "    # perform fourier sampling on the first register\n",
    "    for q in range(n):\n",
    "        qc.h(q)\n",
    "    \n",
    "    for q in range(n):\n",
    "        qc.measure(q, q)\n",
    "    \n",
    "    # What will be measured in the first classical register is a bitstring z so that z dot b = 0 (mod 2)\n",
    "    \n",
    "    return qc"
   ]
  },
  {
   "cell_type": "markdown",
   "metadata": {},
   "source": [
    "If we run the circuit above n times we will get $z_1, z_2 \\dots , z_n$\\\n",
    "With these we can build a system of equations and find $s$"
   ]
  },
  {
   "cell_type": "code",
   "execution_count": 4,
   "metadata": {},
   "outputs": [],
   "source": [
    "# Calculate the dot product of the results\n",
    "def bdotz(b, z):\n",
    "    accum = 0\n",
    "    for i in range(len(b)):\n",
    "        accum += int(b[i]) * int(z[i])\n",
    "    return (accum % 2)"
   ]
  },
  {
   "cell_type": "code",
   "execution_count": 17,
   "metadata": {},
   "outputs": [
    {
     "data": {
      "text/html": [
       "<pre style=\"word-wrap: normal;white-space: pre;background: #fff0;line-height: 1.1;font-family: &quot;Courier New&quot;,Courier,monospace\">     ┌───┐ ░ ┌───────────────┐ ░ ┌───┐┌─┐         \n",
       "q_0: ┤ H ├─░─┤0              ├─░─┤ H ├┤M├─────────\n",
       "     ├───┤ ░ │               │ ░ ├───┤└╥┘┌─┐      \n",
       "q_1: ┤ H ├─░─┤1              ├─░─┤ H ├─╫─┤M├──────\n",
       "     ├───┤ ░ │               │ ░ ├───┤ ║ └╥┘┌─┐   \n",
       "q_2: ┤ H ├─░─┤2              ├─░─┤ H ├─╫──╫─┤M├───\n",
       "     ├───┤ ░ │               │ ░ ├───┤ ║  ║ └╥┘┌─┐\n",
       "q_3: ┤ H ├─░─┤3              ├─░─┤ H ├─╫──╫──╫─┤M├\n",
       "     └───┘ ░ │  Simon Oracle │ ░ └───┘ ║  ║  ║ └╥┘\n",
       "q_4: ──────░─┤4              ├─░───────╫──╫──╫──╫─\n",
       "           ░ │               │ ░       ║  ║  ║  ║ \n",
       "q_5: ──────░─┤5              ├─░───────╫──╫──╫──╫─\n",
       "           ░ │               │ ░       ║  ║  ║  ║ \n",
       "q_6: ──────░─┤6              ├─░───────╫──╫──╫──╫─\n",
       "           ░ │               │ ░       ║  ║  ║  ║ \n",
       "q_7: ──────░─┤7              ├─░───────╫──╫──╫──╫─\n",
       "           ░ └───────────────┘ ░       ║  ║  ║  ║ \n",
       "c: 4/══════════════════════════════════╩══╩══╩══╩═\n",
       "                                       0  1  2  3 </pre>"
      ],
      "text/plain": [
       "     ┌───┐ ░ ┌───────────────┐ ░ ┌───┐┌─┐         \n",
       "q_0: ┤ H ├─░─┤0              ├─░─┤ H ├┤M├─────────\n",
       "     ├───┤ ░ │               │ ░ ├───┤└╥┘┌─┐      \n",
       "q_1: ┤ H ├─░─┤1              ├─░─┤ H ├─╫─┤M├──────\n",
       "     ├───┤ ░ │               │ ░ ├───┤ ║ └╥┘┌─┐   \n",
       "q_2: ┤ H ├─░─┤2              ├─░─┤ H ├─╫──╫─┤M├───\n",
       "     ├───┤ ░ │               │ ░ ├───┤ ║  ║ └╥┘┌─┐\n",
       "q_3: ┤ H ├─░─┤3              ├─░─┤ H ├─╫──╫──╫─┤M├\n",
       "     └───┘ ░ │  Simon Oracle │ ░ └───┘ ║  ║  ║ └╥┘\n",
       "q_4: ──────░─┤4              ├─░───────╫──╫──╫──╫─\n",
       "           ░ │               │ ░       ║  ║  ║  ║ \n",
       "q_5: ──────░─┤5              ├─░───────╫──╫──╫──╫─\n",
       "           ░ │               │ ░       ║  ║  ║  ║ \n",
       "q_6: ──────░─┤6              ├─░───────╫──╫──╫──╫─\n",
       "           ░ │               │ ░       ║  ║  ║  ║ \n",
       "q_7: ──────░─┤7              ├─░───────╫──╫──╫──╫─\n",
       "           ░ └───────────────┘ ░       ║  ║  ║  ║ \n",
       "c: 4/══════════════════════════════════╩══╩══╩══╩═\n",
       "                                       0  1  2  3 "
      ]
     },
     "execution_count": 17,
     "metadata": {},
     "output_type": "execute_result"
    }
   ],
   "source": [
    "s = \"1001\"\n",
    "\n",
    "qc = simon_circuit(s)\n",
    "qc.draw()"
   ]
  },
  {
   "cell_type": "code",
   "execution_count": 18,
   "metadata": {},
   "outputs": [
    {
     "data": {
      "image/png": "[encoded data removed]",
      "text/plain": [
       "<Figure size 504x360 with 1 Axes>"
      ]
     },
     "execution_count": 18,
     "metadata": {},
     "output_type": "execute_result"
    }
   ],
   "source": [
    "backend = Aer.get_backend('qasm_simulator')\n",
    "results = execute(qc, backend=backend, shots=1024).result()\n",
    "counts = results.get_counts()\n",
    "plot_histogram(counts)"
   ]
  },
  {
   "cell_type": "code",
   "execution_count": 19,
   "metadata": {},
   "outputs": [
    {
     "name": "stdout",
     "output_type": "stream",
     "text": [
      "1001.0000 = 0 (mod 2)\n",
      "1001.0010 = 0 (mod 2)\n",
      "1001.0100 = 0 (mod 2)\n",
      "1001.0110 = 0 (mod 2)\n"
     ]
    }
   ],
   "source": [
    "for z in counts:\n",
    "    print( '{}.{} = {} (mod 2)'.format(s, z, bdotz(s, z)) )"
   ]
  },
  {
   "cell_type": "code",
   "execution_count": null,
   "metadata": {},
   "outputs": [],
   "source": []
  }
 ],
 "metadata": {
  "kernelspec": {
   "display_name": "Python 3",
   "language": "python",
   "name": "python3"
  },
  "language_info": {
   "codemirror_mode": {
    "name": "ipython",
    "version": 3
   },
   "file_extension": ".py",
   "mimetype": "text/x-python",
   "name": "python",
   "nbconvert_exporter": "python",
   "pygments_lexer": "ipython3",
   "version": "3.8.6"
  }
 },
 "nbformat": 4,
 "nbformat_minor": 4
}
