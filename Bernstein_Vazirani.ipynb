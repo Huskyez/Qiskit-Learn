{
 "cells": [
  {
   "cell_type": "markdown",
   "metadata": {},
   "source": [
    "# Bernstein-Vazirani Algorithm"
   ]
  },
  {
   "cell_type": "markdown",
   "metadata": {},
   "source": [
    "This algorithm determines a n bit string (ex. \"11001\") using a function\\\n",
    "f<sub>s</sub>(x) = s<sub>0</sub>x<sub>0</sub> + s<sub>1</sub>x<sub>1</sub> + ... + s<sub>n</sub>x<sub>n</sub> mod 2\\\n",
    "\\\n",
    "Classicaly in order to retrieve s we have to query the function n times. In quantum computing using this algorithm\\\n",
    "we can determine s with 100% probability after only 1 query."
   ]
  },
  {
   "cell_type": "markdown",
   "metadata": {},
   "source": [
    "## Necessary Imports and Definitions"
   ]
  },
  {
   "cell_type": "code",
   "execution_count": 6,
   "metadata": {},
   "outputs": [],
   "source": [
    "import numpy as np\n",
    "from math import sqrt\n",
    "from qiskit import QuantumCircuit, QuantumRegister, ClassicalRegister, execute, Aer, IBMQ\n",
    "from qiskit.visualization import plot_histogram, plot_bloch_multivector\n",
    "from qiskit.extensions import Initialize\n",
    "from qiskit_textbook.tools import random_state, array_to_latex\n",
    "\n",
    "unitary_backend = Aer.get_backend(\"unitary_simulator\")\n",
    "statevector_backend = Aer.get_backend(\"statevector_simulator\")\n",
    "backend = Aer.get_backend(\"qasm_simulator\")"
   ]
  },
  {
   "cell_type": "markdown",
   "metadata": {},
   "source": [
    "## Oracle from f<sub>s</sub>"
   ]
  },
  {
   "cell_type": "markdown",
   "metadata": {},
   "source": [
    "This oracle maps the state |x>|y> to |x>|y XOR sx>"
   ]
  },
  {
   "cell_type": "code",
   "execution_count": 3,
   "metadata": {},
   "outputs": [],
   "source": [
    "def get_oracle(s):\n",
    "    \"\"\"\n",
    "    Makes a quantum gate that respects the oracle map\n",
    "    and returns it\n",
    "    \"\"\"\n",
    "    n = len(s)\n",
    "    \n",
    "    oracle = QuantumCircuit(n + 1)\n",
    "    rev_s = s[::-1] # Reverse s to match qiskit's bit ordering\n",
    "    \n",
    "    for q in range(len(rev_s)):\n",
    "        if rev_s[q] == \"0\":\n",
    "            # if the bit is zero do nothing basically\n",
    "            oracle.i(q)\n",
    "        else:\n",
    "            # if it's one apply CX gate (this acts as a classical XOR)\n",
    "            oracle.cx(q, n)\n",
    "            \n",
    "    oracle_gate = oracle.to_gate()\n",
    "    oracle_gate.name = \"B-V Oracle\"\n",
    "    \n",
    "    return oracle_gate\n",
    "    "
   ]
  },
  {
   "cell_type": "markdown",
   "metadata": {},
   "source": [
    "## Algorithm"
   ]
  },
  {
   "cell_type": "code",
   "execution_count": 4,
   "metadata": {},
   "outputs": [],
   "source": [
    "def bv_algorithm(oracle_gate, n):\n",
    "    \n",
    "    \"\"\"\n",
    "    Applies the bernstein-vazirani algorithm to n qubits with a give oracle gate\n",
    "    that respects the conditions described above\n",
    "    Returns the resulting circuit\n",
    "    \"\"\"\n",
    "    \n",
    "    # We need n qubits and an acillary for the output of oracle\n",
    "    # and n classical bits for output of alogrithm\n",
    "    qc = QuantumCircuit(n+1, n)\n",
    "    \n",
    "    # Prepare initial state i.e. |0>*n and the ancillary |-> \n",
    "    qc.h(n)\n",
    "    qc.z(n)\n",
    "    \n",
    "    for q in range(n):\n",
    "        qc.h(q)\n",
    "    \n",
    "    qc.barrier()\n",
    "    \n",
    "    # apply the oracle (works on n+1 qubits) to our circuit \n",
    "    qc.append(oracle_gate, range(n+1))\n",
    "    \n",
    "    qc.barrier()\n",
    "    \n",
    "    # apply hadamard again to the first n qubits\n",
    "    for q in range(n):\n",
    "        qc.h(q)\n",
    "    \n",
    "    qc.barrier()\n",
    "    \n",
    "    # measure the qubits and output their result to the classical registry\n",
    "    qc.measure([i for i in range(n)], [i for i in range(n)])\n",
    "    \n",
    "    return qc"
   ]
  },
  {
   "cell_type": "markdown",
   "metadata": {},
   "source": [
    "## Test"
   ]
  },
  {
   "cell_type": "markdown",
   "metadata": {},
   "source": [
    "### 1. n = 2 and s = \"11\""
   ]
  },
  {
   "cell_type": "code",
   "execution_count": 7,
   "metadata": {},
   "outputs": [
    {
     "data": {
      "text/html": [
       "<pre style=\"word-wrap: normal;white-space: pre;background: #fff0;line-height: 1.1;font-family: &quot;Courier New&quot;,Courier,monospace\">     ┌───┐      ░ ┌─────────────┐ ░ ┌───┐ ░ ┌─┐   \n",
       "q_0: ┤ H ├──────░─┤0            ├─░─┤ H ├─░─┤M├───\n",
       "     ├───┤      ░ │             │ ░ ├───┤ ░ └╥┘┌─┐\n",
       "q_1: ┤ H ├──────░─┤1 B-V Oracle ├─░─┤ H ├─░──╫─┤M├\n",
       "     ├───┤┌───┐ ░ │             │ ░ └───┘ ░  ║ └╥┘\n",
       "q_2: ┤ H ├┤ Z ├─░─┤2            ├─░───────░──╫──╫─\n",
       "     └───┘└───┘ ░ └─────────────┘ ░       ░  ║  ║ \n",
       "c: 2/════════════════════════════════════════╩══╩═\n",
       "                                             0  1 </pre>"
      ],
      "text/plain": [
       "     ┌───┐      ░ ┌─────────────┐ ░ ┌───┐ ░ ┌─┐   \n",
       "q_0: ┤ H ├──────░─┤0            ├─░─┤ H ├─░─┤M├───\n",
       "     ├───┤      ░ │             │ ░ ├───┤ ░ └╥┘┌─┐\n",
       "q_1: ┤ H ├──────░─┤1 B-V Oracle ├─░─┤ H ├─░──╫─┤M├\n",
       "     ├───┤┌───┐ ░ │             │ ░ └───┘ ░  ║ └╥┘\n",
       "q_2: ┤ H ├┤ Z ├─░─┤2            ├─░───────░──╫──╫─\n",
       "     └───┘└───┘ ░ └─────────────┘ ░       ░  ║  ║ \n",
       "c: 2/════════════════════════════════════════╩══╩═\n",
       "                                             0  1 "
      ]
     },
     "execution_count": 7,
     "metadata": {},
     "output_type": "execute_result"
    }
   ],
   "source": [
    "n = 2\n",
    "s = \"11\"\n",
    "oracle = get_oracle(s)\n",
    "qc = bv_algorithm(oracle, n)\n",
    "qc.draw()"
   ]
  },
  {
   "cell_type": "code",
   "execution_count": 8,
   "metadata": {},
   "outputs": [
    {
     "data": {
      "image/png": "[encoded data removed]",
      "text/plain": [
       "<Figure size 504x360 with 1 Axes>"
      ]
     },
     "execution_count": 8,
     "metadata": {},
     "output_type": "execute_result"
    }
   ],
   "source": [
    "results = execute(qc, backend=backend, shots=1024).result()\n",
    "answer = results.get_counts()\n",
    "plot_histogram(answer)"
   ]
  },
  {
   "cell_type": "markdown",
   "metadata": {},
   "source": [
    "We get \"11\" with 100% accuracy, which is what we expected."
   ]
  },
  {
   "cell_type": "markdown",
   "metadata": {},
   "source": [
    "### 2. n = 4 and s = \"1011\""
   ]
  },
  {
   "cell_type": "code",
   "execution_count": 9,
   "metadata": {},
   "outputs": [
    {
     "data": {
      "text/html": [
       "<pre style=\"word-wrap: normal;white-space: pre;background: #fff0;line-height: 1.1;font-family: &quot;Courier New&quot;,Courier,monospace\">     ┌───┐      ░ ┌─────────────┐ ░ ┌───┐ ░ ┌─┐         \n",
       "q_0: ┤ H ├──────░─┤0            ├─░─┤ H ├─░─┤M├─────────\n",
       "     ├───┤      ░ │             │ ░ ├───┤ ░ └╥┘┌─┐      \n",
       "q_1: ┤ H ├──────░─┤1            ├─░─┤ H ├─░──╫─┤M├──────\n",
       "     ├───┤      ░ │             │ ░ ├───┤ ░  ║ └╥┘┌─┐   \n",
       "q_2: ┤ H ├──────░─┤2 B-V Oracle ├─░─┤ H ├─░──╫──╫─┤M├───\n",
       "     ├───┤      ░ │             │ ░ ├───┤ ░  ║  ║ └╥┘┌─┐\n",
       "q_3: ┤ H ├──────░─┤3            ├─░─┤ H ├─░──╫──╫──╫─┤M├\n",
       "     ├───┤┌───┐ ░ │             │ ░ └───┘ ░  ║  ║  ║ └╥┘\n",
       "q_4: ┤ H ├┤ Z ├─░─┤4            ├─░───────░──╫──╫──╫──╫─\n",
       "     └───┘└───┘ ░ └─────────────┘ ░       ░  ║  ║  ║  ║ \n",
       "c: 4/════════════════════════════════════════╩══╩══╩══╩═\n",
       "                                             0  1  2  3 </pre>"
      ],
      "text/plain": [
       "     ┌───┐      ░ ┌─────────────┐ ░ ┌───┐ ░ ┌─┐         \n",
       "q_0: ┤ H ├──────░─┤0            ├─░─┤ H ├─░─┤M├─────────\n",
       "     ├───┤      ░ │             │ ░ ├───┤ ░ └╥┘┌─┐      \n",
       "q_1: ┤ H ├──────░─┤1            ├─░─┤ H ├─░──╫─┤M├──────\n",
       "     ├───┤      ░ │             │ ░ ├───┤ ░  ║ └╥┘┌─┐   \n",
       "q_2: ┤ H ├──────░─┤2 B-V Oracle ├─░─┤ H ├─░──╫──╫─┤M├───\n",
       "     ├───┤      ░ │             │ ░ ├───┤ ░  ║  ║ └╥┘┌─┐\n",
       "q_3: ┤ H ├──────░─┤3            ├─░─┤ H ├─░──╫──╫──╫─┤M├\n",
       "     ├───┤┌───┐ ░ │             │ ░ └───┘ ░  ║  ║  ║ └╥┘\n",
       "q_4: ┤ H ├┤ Z ├─░─┤4            ├─░───────░──╫──╫──╫──╫─\n",
       "     └───┘└───┘ ░ └─────────────┘ ░       ░  ║  ║  ║  ║ \n",
       "c: 4/════════════════════════════════════════╩══╩══╩══╩═\n",
       "                                             0  1  2  3 "
      ]
     },
     "execution_count": 9,
     "metadata": {},
     "output_type": "execute_result"
    }
   ],
   "source": [
    "n = 4\n",
    "s = \"1011\"\n",
    "oracle = get_oracle(s)\n",
    "qc = bv_algorithm(oracle, n)\n",
    "qc.draw()"
   ]
  },
  {
   "cell_type": "code",
   "execution_count": 10,
   "metadata": {},
   "outputs": [
    {
     "data": {
      "image/png": "[encoded data removed]",
      "text/plain": [
       "<Figure size 504x360 with 1 Axes>"
      ]
     },
     "execution_count": 10,
     "metadata": {},
     "output_type": "execute_result"
    }
   ],
   "source": [
    "results = execute(qc, backend=backend, shots=1024).result()\n",
    "answer = results.get_counts()\n",
    "plot_histogram(answer)"
   ]
  },
  {
   "cell_type": "markdown",
   "metadata": {},
   "source": [
    "### 2. n = 8 and s = \"11101101\""
   ]
  },
  {
   "cell_type": "code",
   "execution_count": 11,
   "metadata": {},
   "outputs": [
    {
     "data": {
      "text/html": [
       "<pre style=\"word-wrap: normal;white-space: pre;background: #fff0;line-height: 1.1;font-family: &quot;Courier New&quot;,Courier,monospace\">     ┌───┐      ░ ┌─────────────┐ ░ ┌───┐ ░ ┌─┐                     \n",
       "q_0: ┤ H ├──────░─┤0            ├─░─┤ H ├─░─┤M├─────────────────────\n",
       "     ├───┤      ░ │             │ ░ ├───┤ ░ └╥┘┌─┐                  \n",
       "q_1: ┤ H ├──────░─┤1            ├─░─┤ H ├─░──╫─┤M├──────────────────\n",
       "     ├───┤      ░ │             │ ░ ├───┤ ░  ║ └╥┘┌─┐               \n",
       "q_2: ┤ H ├──────░─┤2            ├─░─┤ H ├─░──╫──╫─┤M├───────────────\n",
       "     ├───┤      ░ │             │ ░ ├───┤ ░  ║  ║ └╥┘┌─┐            \n",
       "q_3: ┤ H ├──────░─┤3            ├─░─┤ H ├─░──╫──╫──╫─┤M├────────────\n",
       "     ├───┤      ░ │             │ ░ ├───┤ ░  ║  ║  ║ └╥┘┌─┐         \n",
       "q_4: ┤ H ├──────░─┤4 B-V Oracle ├─░─┤ H ├─░──╫──╫──╫──╫─┤M├─────────\n",
       "     ├───┤      ░ │             │ ░ ├───┤ ░  ║  ║  ║  ║ └╥┘┌─┐      \n",
       "q_5: ┤ H ├──────░─┤5            ├─░─┤ H ├─░──╫──╫──╫──╫──╫─┤M├──────\n",
       "     ├───┤      ░ │             │ ░ ├───┤ ░  ║  ║  ║  ║  ║ └╥┘┌─┐   \n",
       "q_6: ┤ H ├──────░─┤6            ├─░─┤ H ├─░──╫──╫──╫──╫──╫──╫─┤M├───\n",
       "     ├───┤      ░ │             │ ░ ├───┤ ░  ║  ║  ║  ║  ║  ║ └╥┘┌─┐\n",
       "q_7: ┤ H ├──────░─┤7            ├─░─┤ H ├─░──╫──╫──╫──╫──╫──╫──╫─┤M├\n",
       "     ├───┤┌───┐ ░ │             │ ░ └───┘ ░  ║  ║  ║  ║  ║  ║  ║ └╥┘\n",
       "q_8: ┤ H ├┤ Z ├─░─┤8            ├─░───────░──╫──╫──╫──╫──╫──╫──╫──╫─\n",
       "     └───┘└───┘ ░ └─────────────┘ ░       ░  ║  ║  ║  ║  ║  ║  ║  ║ \n",
       "c: 8/════════════════════════════════════════╩══╩══╩══╩══╩══╩══╩══╩═\n",
       "                                             0  1  2  3  4  5  6  7 </pre>"
      ],
      "text/plain": [
       "     ┌───┐      ░ ┌─────────────┐ ░ ┌───┐ ░ ┌─┐                     \n",
       "q_0: ┤ H ├──────░─┤0            ├─░─┤ H ├─░─┤M├─────────────────────\n",
       "     ├───┤      ░ │             │ ░ ├───┤ ░ └╥┘┌─┐                  \n",
       "q_1: ┤ H ├──────░─┤1            ├─░─┤ H ├─░──╫─┤M├──────────────────\n",
       "     ├───┤      ░ │             │ ░ ├───┤ ░  ║ └╥┘┌─┐               \n",
       "q_2: ┤ H ├──────░─┤2            ├─░─┤ H ├─░──╫──╫─┤M├───────────────\n",
       "     ├───┤      ░ │             │ ░ ├───┤ ░  ║  ║ └╥┘┌─┐            \n",
       "q_3: ┤ H ├──────░─┤3            ├─░─┤ H ├─░──╫──╫──╫─┤M├────────────\n",
       "     ├───┤      ░ │             │ ░ ├───┤ ░  ║  ║  ║ └╥┘┌─┐         \n",
       "q_4: ┤ H ├──────░─┤4 B-V Oracle ├─░─┤ H ├─░──╫──╫──╫──╫─┤M├─────────\n",
       "     ├───┤      ░ │             │ ░ ├───┤ ░  ║  ║  ║  ║ └╥┘┌─┐      \n",
       "q_5: ┤ H ├──────░─┤5            ├─░─┤ H ├─░──╫──╫──╫──╫──╫─┤M├──────\n",
       "     ├───┤      ░ │             │ ░ ├───┤ ░  ║  ║  ║  ║  ║ └╥┘┌─┐   \n",
       "q_6: ┤ H ├──────░─┤6            ├─░─┤ H ├─░──╫──╫──╫──╫──╫──╫─┤M├───\n",
       "     ├───┤      ░ │             │ ░ ├───┤ ░  ║  ║  ║  ║  ║  ║ └╥┘┌─┐\n",
       "q_7: ┤ H ├──────░─┤7            ├─░─┤ H ├─░──╫──╫──╫──╫──╫──╫──╫─┤M├\n",
       "     ├───┤┌───┐ ░ │             │ ░ └───┘ ░  ║  ║  ║  ║  ║  ║  ║ └╥┘\n",
       "q_8: ┤ H ├┤ Z ├─░─┤8            ├─░───────░──╫──╫──╫──╫──╫──╫──╫──╫─\n",
       "     └───┘└───┘ ░ └─────────────┘ ░       ░  ║  ║  ║  ║  ║  ║  ║  ║ \n",
       "c: 8/════════════════════════════════════════╩══╩══╩══╩══╩══╩══╩══╩═\n",
       "                                             0  1  2  3  4  5  6  7 "
      ]
     },
     "execution_count": 11,
     "metadata": {},
     "output_type": "execute_result"
    }
   ],
   "source": [
    "n = 8\n",
    "s = \"11101101\"\n",
    "oracle = get_oracle(s)\n",
    "qc = bv_algorithm(oracle, n)\n",
    "qc.draw()"
   ]
  },
  {
   "cell_type": "code",
   "execution_count": 12,
   "metadata": {},
   "outputs": [
    {
     "data": {
      "image/png": "[encoded data removed]",
      "text/plain": [
       "<Figure size 504x360 with 1 Axes>"
      ]
     },
     "execution_count": 12,
     "metadata": {},
     "output_type": "execute_result"
    }
   ],
   "source": [
    "results = execute(qc, backend=backend, shots=1024).result()\n",
    "answer = results.get_counts()\n",
    "plot_histogram(answer)"
   ]
  },
  {
   "cell_type": "markdown",
   "metadata": {},
   "source": [
    "Even in our last 2 tests we get back the desired output with 100% accuracy."
   ]
  },
  {
   "cell_type": "markdown",
   "metadata": {},
   "source": [
    "## Test on a real Quantum Computer"
   ]
  },
  {
   "cell_type": "code",
   "execution_count": 13,
   "metadata": {},
   "outputs": [],
   "source": [
    "\n",
    "# Import some more qiskit stuff\n",
    "from qiskit.providers.ibmq import least_busy\n",
    "from qiskit.tools.monitor import job_monitor\n"
   ]
  },
  {
   "cell_type": "code",
   "execution_count": 14,
   "metadata": {},
   "outputs": [
    {
     "data": {
      "text/html": [
       "<pre style=\"word-wrap: normal;white-space: pre;background: #fff0;line-height: 1.1;font-family: &quot;Courier New&quot;,Courier,monospace\">     ┌───┐      ░ ┌─────────────┐ ░ ┌───┐ ░ ┌─┐         \n",
       "q_0: ┤ H ├──────░─┤0            ├─░─┤ H ├─░─┤M├─────────\n",
       "     ├───┤      ░ │             │ ░ ├───┤ ░ └╥┘┌─┐      \n",
       "q_1: ┤ H ├──────░─┤1            ├─░─┤ H ├─░──╫─┤M├──────\n",
       "     ├───┤      ░ │             │ ░ ├───┤ ░  ║ └╥┘┌─┐   \n",
       "q_2: ┤ H ├──────░─┤2 B-V Oracle ├─░─┤ H ├─░──╫──╫─┤M├───\n",
       "     ├───┤      ░ │             │ ░ ├───┤ ░  ║  ║ └╥┘┌─┐\n",
       "q_3: ┤ H ├──────░─┤3            ├─░─┤ H ├─░──╫──╫──╫─┤M├\n",
       "     ├───┤┌───┐ ░ │             │ ░ └───┘ ░  ║  ║  ║ └╥┘\n",
       "q_4: ┤ H ├┤ Z ├─░─┤4            ├─░───────░──╫──╫──╫──╫─\n",
       "     └───┘└───┘ ░ └─────────────┘ ░       ░  ║  ║  ║  ║ \n",
       "c: 4/════════════════════════════════════════╩══╩══╩══╩═\n",
       "                                             0  1  2  3 </pre>"
      ],
      "text/plain": [
       "     ┌───┐      ░ ┌─────────────┐ ░ ┌───┐ ░ ┌─┐         \n",
       "q_0: ┤ H ├──────░─┤0            ├─░─┤ H ├─░─┤M├─────────\n",
       "     ├───┤      ░ │             │ ░ ├───┤ ░ └╥┘┌─┐      \n",
       "q_1: ┤ H ├──────░─┤1            ├─░─┤ H ├─░──╫─┤M├──────\n",
       "     ├───┤      ░ │             │ ░ ├───┤ ░  ║ └╥┘┌─┐   \n",
       "q_2: ┤ H ├──────░─┤2 B-V Oracle ├─░─┤ H ├─░──╫──╫─┤M├───\n",
       "     ├───┤      ░ │             │ ░ ├───┤ ░  ║  ║ └╥┘┌─┐\n",
       "q_3: ┤ H ├──────░─┤3            ├─░─┤ H ├─░──╫──╫──╫─┤M├\n",
       "     ├───┤┌───┐ ░ │             │ ░ └───┘ ░  ║  ║  ║ └╥┘\n",
       "q_4: ┤ H ├┤ Z ├─░─┤4            ├─░───────░──╫──╫──╫──╫─\n",
       "     └───┘└───┘ ░ └─────────────┘ ░       ░  ║  ║  ║  ║ \n",
       "c: 4/════════════════════════════════════════╩══╩══╩══╩═\n",
       "                                             0  1  2  3 "
      ]
     },
     "execution_count": 14,
     "metadata": {},
     "output_type": "execute_result"
    }
   ],
   "source": [
    "n = 4\n",
    "s = \"1101\"\n",
    "\n",
    "oracle = get_oracle(s)\n",
    "qc = bv_algorithm(oracle, n)\n",
    "qc.draw()"
   ]
  },
  {
   "cell_type": "code",
   "execution_count": 15,
   "metadata": {},
   "outputs": [
    {
     "name": "stderr",
     "output_type": "stream",
     "text": [
      "c:\\users\\huskyez\\appdata\\local\\programs\\python\\python38\\lib\\site-packages\\qiskit\\providers\\ibmq\\ibmqfactory.py:192: UserWarning: Timestamps in IBMQ backend properties, jobs, and job results are all now in local time instead of UTC.\n",
      "  warnings.warn('Timestamps in IBMQ backend properties, jobs, and job results '\n"
     ]
    },
    {
     "name": "stdout",
     "output_type": "stream",
     "text": [
      "least busy backend:  ibmq_valencia\n"
     ]
    }
   ],
   "source": [
    "# this code gets the least busy quantum computer with the necessary number of qubits\n",
    "IBMQ.load_account()\n",
    "provider = IBMQ.get_provider(hub='ibm-q')\n",
    "provider.backends()\n",
    "backend = least_busy(provider.backends(filters=lambda x: x.configuration().n_qubits >= n and\n",
    "                                   not x.configuration().simulator and x.status().operational==True))\n",
    "print(\"least busy backend: \", backend)"
   ]
  },
  {
   "cell_type": "code",
   "execution_count": 16,
   "metadata": {},
   "outputs": [
    {
     "name": "stdout",
     "output_type": "stream",
     "text": [
      "Job Status: job has successfully run\n"
     ]
    }
   ],
   "source": [
    "job = execute(qc, backend=backend, shots=1024)\n",
    "job_monitor(job, interval = 2)"
   ]
  },
  {
   "cell_type": "code",
   "execution_count": 17,
   "metadata": {},
   "outputs": [
    {
     "data": {
      "image/png": "[encoded data removed]",
      "text/plain": [
       "<Figure size 504x360 with 1 Axes>"
      ]
     },
     "execution_count": 17,
     "metadata": {},
     "output_type": "execute_result"
    }
   ],
   "source": [
    "# Get the results from the computation\n",
    "results = job.result()\n",
    "answer = results.get_counts()\n",
    "\n",
    "plot_histogram(answer)"
   ]
  },
  {
   "cell_type": "markdown",
   "metadata": {},
   "source": [
    "To be honest I didn't expect this bad of a result.\\\n",
    "It ooks like a random distribution with our desired output \"1101\" no being even close to the top.\n",
    "I have no idea why this happened."
   ]
  },
  {
   "cell_type": "markdown",
   "metadata": {},
   "source": [
    "Note: the first time I implemented the circuit I first applied X and then H on the ancillary to bring it to the |-> state\\\n",
    "Running the algorithm on the simulator yields the expected results running it on a real QC however does not work\\\n",
    "The second implemntation, which should be equivalent is to first apply H and then Z to the ancillary, also resulting in the |-> state,\\\n",
    "the result can be seen above: the second implementation yields better results (like way better)."
   ]
  },
  {
   "cell_type": "markdown",
   "metadata": {},
   "source": [
    "# Redefine circuit with XH instead of HZ for ancillary"
   ]
  },
  {
   "cell_type": "code",
   "execution_count": 18,
   "metadata": {},
   "outputs": [],
   "source": [
    "def bv_algorithm(oracle_gate, n):\n",
    "    \n",
    "    \"\"\"\n",
    "    Applies the bernstein-vazirani algorithm to n qubits with a give oracle gate\n",
    "    that respects the conditions described above\n",
    "    Returns the resulting circuit\n",
    "    \"\"\"\n",
    "    \n",
    "    # We need n qubits and an acillary for the output of oracle\n",
    "    # and n classical bits for output of alogrithm\n",
    "    qc = QuantumCircuit(n+1, n)\n",
    "    \n",
    "    # Prepare initial state i.e. |0>*n and the ancillary |-> \n",
    "    qc.x(n)\n",
    "    qc.h(n)\n",
    "    \n",
    "    for q in range(n):\n",
    "        qc.h(q)\n",
    "    \n",
    "    qc.barrier()\n",
    "    \n",
    "    # apply the oracle (works on n+1 qubits) to our circuit \n",
    "    qc.append(oracle_gate, range(n+1))\n",
    "    \n",
    "    qc.barrier()\n",
    "    \n",
    "    # apply hadamard again to the first n qubits\n",
    "    for q in range(n):\n",
    "        qc.h(q)\n",
    "    \n",
    "    qc.barrier()\n",
    "    \n",
    "    # measure the qubits and output their result to the classical registry\n",
    "    qc.measure([i for i in range(n)], [i for i in range(n)])\n",
    "    \n",
    "    return qc"
   ]
  },
  {
   "cell_type": "code",
   "execution_count": 19,
   "metadata": {},
   "outputs": [
    {
     "data": {
      "text/html": [
       "<pre style=\"word-wrap: normal;white-space: pre;background: #fff0;line-height: 1.1;font-family: &quot;Courier New&quot;,Courier,monospace\">     ┌───┐      ░ ┌─────────────┐ ░ ┌───┐ ░ ┌─┐         \n",
       "q_0: ┤ H ├──────░─┤0            ├─░─┤ H ├─░─┤M├─────────\n",
       "     ├───┤      ░ │             │ ░ ├───┤ ░ └╥┘┌─┐      \n",
       "q_1: ┤ H ├──────░─┤1            ├─░─┤ H ├─░──╫─┤M├──────\n",
       "     ├───┤      ░ │             │ ░ ├───┤ ░  ║ └╥┘┌─┐   \n",
       "q_2: ┤ H ├──────░─┤2 B-V Oracle ├─░─┤ H ├─░──╫──╫─┤M├───\n",
       "     ├───┤      ░ │             │ ░ ├───┤ ░  ║  ║ └╥┘┌─┐\n",
       "q_3: ┤ H ├──────░─┤3            ├─░─┤ H ├─░──╫──╫──╫─┤M├\n",
       "     ├───┤┌───┐ ░ │             │ ░ └───┘ ░  ║  ║  ║ └╥┘\n",
       "q_4: ┤ X ├┤ H ├─░─┤4            ├─░───────░──╫──╫──╫──╫─\n",
       "     └───┘└───┘ ░ └─────────────┘ ░       ░  ║  ║  ║  ║ \n",
       "c: 4/════════════════════════════════════════╩══╩══╩══╩═\n",
       "                                             0  1  2  3 </pre>"
      ],
      "text/plain": [
       "     ┌───┐      ░ ┌─────────────┐ ░ ┌───┐ ░ ┌─┐         \n",
       "q_0: ┤ H ├──────░─┤0            ├─░─┤ H ├─░─┤M├─────────\n",
       "     ├───┤      ░ │             │ ░ ├───┤ ░ └╥┘┌─┐      \n",
       "q_1: ┤ H ├──────░─┤1            ├─░─┤ H ├─░──╫─┤M├──────\n",
       "     ├───┤      ░ │             │ ░ ├───┤ ░  ║ └╥┘┌─┐   \n",
       "q_2: ┤ H ├──────░─┤2 B-V Oracle ├─░─┤ H ├─░──╫──╫─┤M├───\n",
       "     ├───┤      ░ │             │ ░ ├───┤ ░  ║  ║ └╥┘┌─┐\n",
       "q_3: ┤ H ├──────░─┤3            ├─░─┤ H ├─░──╫──╫──╫─┤M├\n",
       "     ├───┤┌───┐ ░ │             │ ░ └───┘ ░  ║  ║  ║ └╥┘\n",
       "q_4: ┤ X ├┤ H ├─░─┤4            ├─░───────░──╫──╫──╫──╫─\n",
       "     └───┘└───┘ ░ └─────────────┘ ░       ░  ║  ║  ║  ║ \n",
       "c: 4/════════════════════════════════════════╩══╩══╩══╩═\n",
       "                                             0  1  2  3 "
      ]
     },
     "execution_count": 19,
     "metadata": {},
     "output_type": "execute_result"
    }
   ],
   "source": [
    "n = 4\n",
    "s = \"1101\"\n",
    "\n",
    "oracle = get_oracle(s)\n",
    "qc = bv_algorithm(oracle, n)\n",
    "qc.draw()"
   ]
  },
  {
   "cell_type": "code",
   "execution_count": 24,
   "metadata": {},
   "outputs": [
    {
     "name": "stderr",
     "output_type": "stream",
     "text": [
      "ibmqfactory.load_account:WARNING:2020-10-14 15:59:35,462: Credentials are already in use. The existing account in the session will be replaced.\n"
     ]
    },
    {
     "name": "stdout",
     "output_type": "stream",
     "text": [
      "least busy backend:  ibmq_athens\n"
     ]
    }
   ],
   "source": [
    "# this code gets the least busy quantum computer with the necessary number of qubits\n",
    "IBMQ.load_account()\n",
    "provider = IBMQ.get_provider(hub='ibm-q')\n",
    "provider.backends()\n",
    "backend = least_busy(provider.backends(filters=lambda x: x.configuration().n_qubits >= n and\n",
    "                                   not x.configuration().simulator and x.status().operational==True))\n",
    "print(\"least busy backend: \", backend)"
   ]
  },
  {
   "cell_type": "code",
   "execution_count": 21,
   "metadata": {},
   "outputs": [
    {
     "name": "stdout",
     "output_type": "stream",
     "text": [
      "Job Status: job has successfully run\n"
     ]
    }
   ],
   "source": [
    "job = execute(qc, backend=backend, shots=1024)\n",
    "job_monitor(job, interval = 2)"
   ]
  },
  {
   "cell_type": "code",
   "execution_count": 22,
   "metadata": {},
   "outputs": [
    {
     "data": {
      "image/png": "[encoded data removed]",
      "text/plain": [
       "<Figure size 504x360 with 1 Axes>"
      ]
     },
     "execution_count": 22,
     "metadata": {},
     "output_type": "execute_result"
    }
   ],
   "source": [
    "# Get the results from the computation\n",
    "results = job.result()\n",
    "answer = results.get_counts()\n",
    "\n",
    "plot_histogram(answer)"
   ]
  },
  {
   "cell_type": "markdown",
   "metadata": {},
   "source": [
    "To my surpirse this is still ok. Unlike last night when I ran it and the results where all over the place. (The correct answer should be 1101 still)\n",
    "![WTF](BV_XH_Valencia.png)\\\n",
    "This was run on ibmq_valencia with the same parameters and functions as above"
   ]
  },
  {
   "cell_type": "code",
   "execution_count": null,
   "metadata": {},
   "outputs": [],
   "source": []
  }
 ],
 "metadata": {
  "kernelspec": {
   "display_name": "Python 3",
   "language": "python",
   "name": "python3"
  },
  "language_info": {
   "codemirror_mode": {
    "name": "ipython",
    "version": 3
   },
   "file_extension": ".py",
   "mimetype": "text/x-python",
   "name": "python",
   "nbconvert_exporter": "python",
   "pygments_lexer": "ipython3",
   "version": "3.8.6"
  }
 },
 "nbformat": 4,
 "nbformat_minor": 4
}
